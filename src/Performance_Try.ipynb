{
 "cells": [
  {
   "cell_type": "code",
   "execution_count": 8,
   "metadata": {},
   "outputs": [],
   "source": [
    "import cv2\n",
    "import numpy as np\n",
    "import pandas as pd\n",
    "import os\n",
    "import threading\n",
    "import logging\n",
    "import time\n",
    "import pandas as pd\n",
    "import IPython"
   ]
  },
  {
   "cell_type": "code",
   "execution_count": 16,
   "metadata": {},
   "outputs": [],
   "source": [
    "def thread_function(name, s, r):\n",
    "    \n",
    "    logging.info(\"Thread %s: starting\", name)\n",
    "    os.system(('python3 maskrcnn_predict.py --image=../Frame/process' + str(s) + '.jpg --count=' + str(s) ))\n",
    "    logging.info(\"Thread %s: finishing\", name)\n",
    "    runing = False"
   ]
  },
  {
   "cell_type": "code",
   "execution_count": 10,
   "metadata": {},
   "outputs": [
    {
     "name": "stderr",
     "output_type": "stream",
     "text": [
      "18:43:14: Main    : before creating thread\n",
      "18:43:14: Main    : before running thread\n",
      "18:43:14: Thread 1: starting\n",
      "18:43:14: Main    : wait for the thread to finish\n",
      "18:43:31: Thread 1: finishing\n"
     ]
    }
   ],
   "source": [
    "\n",
    "cap = cv2.VideoCapture(0)\n",
    "pack = []\n",
    "data = []\n",
    "img = np.zeros((480,640,3))\n",
    "sm = np.zeros((480,640,3))\n",
    "new_img = np.zeros(sm.shape, dtype=np.uint8)\n",
    "count = 0\n",
    "der = 0\n",
    "im = 0\n",
    "runing = False\n",
    "backSub = cv2.createBackgroundSubtractorMOG2()\n",
    "while(1):\n",
    "\n",
    "    _, frame = cap.read()\n",
    "    gray = cv2.cvtColor(frame, cv2.COLOR_BGR2GRAY)\n",
    "    if not _:\n",
    "        break\n",
    "    pack.append(frame)\n",
    "    count = count + 1\n",
    "    if count > 5:\n",
    "        #img = cv2.subtract(gray, pack.pop(0))\n",
    "        img = backSub.apply(frame)\n",
    "    data.append(np.sum(img))\n",
    "    if len(data) > 30:\n",
    "        \n",
    "        if np.sum(img) - np.average(data) /np.std(data) < 2*np.std(data):\n",
    "            img = np.zeros(frame.shape)\n",
    "            der = der + 1\n",
    "        arr = np.nonzero(img)\n",
    "        new_img = np.zeros(sm.shape, dtype=np.uint8)        \n",
    "        new_img[arr[0], arr[1],0] = frame[arr[0], arr[1],0]\n",
    "        new_img[arr[0], arr[1],1] = frame[arr[0], arr[1],1]\n",
    "        new_img[arr[0], arr[1],2] = frame[arr[0], arr[1],2]\n",
    "                \n",
    "          \n",
    "        if (np.sum(img) - np.average(data) /np.std(data) > 2*np.std(data)) and not runing:\n",
    "            format = \"%(asctime)s: %(message)s\"\n",
    "            data.pop(-1)\n",
    "            logging.basicConfig(format=format, level=logging.INFO,\n",
    "                                datefmt=\"%H:%M:%S\")\n",
    "\n",
    "            logging.info(\"Main    : before creating thread\")\n",
    "            \n",
    "            x = threading.Thread(target=thread_function, args=(1,im, runing))\n",
    "            logging.info(\"Main    : before running thread\")\n",
    "            cv2.imwrite('../Frame/process' + str(im) + '.jpg',new_img)\n",
    "            x.start()\n",
    "            im = im + 1\n",
    "            logging.info(\"Main    : wait for the thread to finish\")\n",
    "            der = 0\n",
    "            \n",
    "\n",
    "    \n",
    "    cv2.imshow('Edges',new_img)  \n",
    "    cv2.imshow('Frame', frame)\n",
    "    cv2.imshow('FG Mask', img)\n",
    "    cv2.imwrite('../Images/Frame.png',frame)\n",
    "    k = cv2.waitKey(5) & 0xFF\n",
    "    if k == 27:\n",
    "        break\n",
    "\n",
    "cv2.destroyAllWindows()\n",
    "cap.release()"
   ]
  }
 ],
 "metadata": {
  "kernelspec": {
   "display_name": "Python 3",
   "language": "python",
   "name": "python3"
  },
  "language_info": {
   "codemirror_mode": {
    "name": "ipython",
    "version": 3
   },
   "file_extension": ".py",
   "mimetype": "text/x-python",
   "name": "python",
   "nbconvert_exporter": "python",
   "pygments_lexer": "ipython3",
   "version": "3.6.8"
  }
 },
 "nbformat": 4,
 "nbformat_minor": 2
}
